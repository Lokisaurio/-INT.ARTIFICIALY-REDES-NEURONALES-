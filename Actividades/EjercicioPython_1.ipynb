{
  "nbformat": 4,
  "nbformat_minor": 0,
  "metadata": {
    "colab": {
      "provenance": [],
      "authorship_tag": "ABX9TyP85Gxgu+vxFBz8vR6wYG6p",
      "include_colab_link": true
    },
    "kernelspec": {
      "name": "python3",
      "display_name": "Python 3"
    },
    "language_info": {
      "name": "python"
    }
  },
  "cells": [
    {
      "cell_type": "markdown",
      "metadata": {
        "id": "view-in-github",
        "colab_type": "text"
      },
      "source": [
        "<a href=\"https://colab.research.google.com/github/Lokisaurio/-INT.ARTIFICIALY-REDES-NEURONALES-/blob/main/Actividades/EjercicioPython_1.ipynb\" target=\"_parent\"><img src=\"https://colab.research.google.com/assets/colab-badge.svg\" alt=\"Open In Colab\"/></a>"
      ]
    },
    {
      "cell_type": "markdown",
      "source": [
        "# **EjercicioPython_1**\n",
        "### Victor Daniel Garcia Tobar 2077756 N1 \n",
        "1. Desarrolla un algoritmo que le pida al usuario por su nombre y que lo salude con su nombre, excepto si se llama “Ana”, “Juan”, y “Pedro”."
      ],
      "metadata": {
        "id": "wGNBu9jLPv0Z"
      }
    },
    {
      "cell_type": "code",
      "source": [
        "nombre = input(\"introduce tu nombre: \")\n",
        "\n",
        "if nombre.lower() != \"ana\" and nombre.lower() != \"juan\" and nombre.lower() != \"pedro\":\n",
        "  print(\"Hola, \" + nombre + \" como estas? \")\n",
        "else:\n",
        "  print( nombre + \" ingresa otro nombre\")"
      ],
      "metadata": {
        "colab": {
          "base_uri": "https://localhost:8080/"
        },
        "id": "NaN0DPelQQHZ",
        "outputId": "3cfef96d-3a58-4c4f-91e2-80d58fe9aed4"
      },
      "execution_count": 54,
      "outputs": [
        {
          "output_type": "stream",
          "name": "stdout",
          "text": [
            "introduce tu nombre: Victor\n",
            "Hola, Victor como estas? \n"
          ]
        }
      ]
    },
    {
      "cell_type": "markdown",
      "source": [
        "2. Desarrolla un algoritmo que por medio de una función, le pida al usuario una lista de N elementos y como resultado invierta el sentido de la lista. "
      ],
      "metadata": {
        "id": "TIhLz5AkTLA1"
      }
    },
    {
      "cell_type": "code",
      "source": [
        "n = int(input(\" introduce el numero de elementos para hacer una lista \"))\n",
        "numeros = []\n",
        "\n",
        "if n > 0:\n",
        "\n",
        "  for i in range(1, n+1):\n",
        "    elemento = int(input(\"Ingresa el elemento \" + str(i) + \":\"))\n",
        "    numeros.append(elemento)\n",
        "\n",
        "  print(numeros[::-1]) "
      ],
      "metadata": {
        "colab": {
          "base_uri": "https://localhost:8080/"
        },
        "id": "GbbtISVQTTSc",
        "outputId": "56f56fce-aaf0-4141-8394-da1cbfc8ab65"
      },
      "execution_count": 53,
      "outputs": [
        {
          "output_type": "stream",
          "name": "stdout",
          "text": [
            " introduce el numero de elementos para hacer una lista 3\n",
            "Ingresa el elemento 1:3\n",
            "Ingresa el elemento 2:5\n",
            "Ingresa el elemento 3:7\n",
            "[7, 5, 3]\n"
          ]
        }
      ]
    },
    {
      "cell_type": "markdown",
      "source": [
        "3. Desarrolla un algoritmo que le pregunte al usuario cuántos números de la serie de Fibonnaci quiere generar y que al final los imprima.   \n"
      ],
      "metadata": {
        "id": "GIzoEHxnZ0K8"
      }
    },
    {
      "cell_type": "code",
      "source": [
        "s = int(input(\"introduce los valores que quieres imprimir \"))\n",
        "if s > 0:\n",
        "  \n",
        "\n",
        "  fibo = 0\n",
        "  anterior = 0\n",
        "\n",
        "  print(0)\n",
        "\n",
        "  for i in range(1, s):\n",
        "    if(i == 1):\n",
        "      fibo = 1\n",
        "    else:\n",
        "      aux = fibo\n",
        "      fibo = fibo+anterior\n",
        "      anterior = aux\n",
        "    print(fibo)\n",
        "  \n"
      ],
      "metadata": {
        "colab": {
          "base_uri": "https://localhost:8080/"
        },
        "id": "GRqZf8N9aCAl",
        "outputId": "82850e02-edbf-4872-909a-5de4b3ac71e2"
      },
      "execution_count": 52,
      "outputs": [
        {
          "output_type": "stream",
          "name": "stdout",
          "text": [
            "introduce los valores que quieres imprimir 6\n",
            "0\n",
            "1\n",
            "1\n",
            "2\n",
            "3\n",
            "5\n"
          ]
        }
      ]
    }
  ]
}