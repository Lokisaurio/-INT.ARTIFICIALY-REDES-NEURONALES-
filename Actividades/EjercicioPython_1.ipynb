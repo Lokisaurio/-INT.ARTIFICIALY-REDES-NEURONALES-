{
  "nbformat": 4,
  "nbformat_minor": 0,
  "metadata": {
    "colab": {
      "provenance": [],
      "authorship_tag": "ABX9TyNhz9TZpU1NLCcCcaRC8rwG",
      "include_colab_link": true
    },
    "kernelspec": {
      "name": "python3",
      "display_name": "Python 3"
    },
    "language_info": {
      "name": "python"
    }
  },
  "cells": [
    {
      "cell_type": "markdown",
      "metadata": {
        "id": "view-in-github",
        "colab_type": "text"
      },
      "source": [
        "<a href=\"https://colab.research.google.com/github/Lokisaurio/-INT.ARTIFICIALY-REDES-NEURONALES-/blob/main/Actividades/EjercicioPython_1.ipynb\" target=\"_parent\"><img src=\"https://colab.research.google.com/assets/colab-badge.svg\" alt=\"Open In Colab\"/></a>"
      ]
    },
    {
      "cell_type": "markdown",
      "source": [
        "# **EjercicioPython_1**\n",
        "\n",
        "1. Desarrolla un algoritmo que le pida al usuario por su nombre y que lo salude con su nombre, excepto si se llama “Ana”, “Juan”, y “Pedro”."
      ],
      "metadata": {
        "id": "wGNBu9jLPv0Z"
      }
    },
    {
      "cell_type": "code",
      "source": [
        "nombre = input(\"introduce tu nombre: \")\n",
        "\n",
        "if nombre.lower() != \"ana\" and nombre.lower() != \"juan\" and nombre.lower() != \"pedro\":\n",
        "  print(\"Hola, \" + nombre + \" como estas? \")\n",
        "else:\n",
        "  print( nombre + \" ingresa otro nombre\")"
      ],
      "metadata": {
        "colab": {
          "base_uri": "https://localhost:8080/"
        },
        "id": "NaN0DPelQQHZ",
        "outputId": "ac816bf5-a9a8-4714-cab2-729735b2a330"
      },
      "execution_count": 13,
      "outputs": [
        {
          "output_type": "stream",
          "name": "stdout",
          "text": [
            "introduce tu nombre: juan\n",
            "juan ingresa otro nombre\n"
          ]
        }
      ]
    },
    {
      "cell_type": "markdown",
      "source": [
        "2. Desarrolla un algoritmo que por medio de una función, le pida al usuario una lista de N elementos y como resultado invierta el sentido de la lista. "
      ],
      "metadata": {
        "id": "TIhLz5AkTLA1"
      }
    },
    {
      "cell_type": "code",
      "source": [
        "n = int(input(\" introduce el numero de elementos para hacer una lista \"))\n",
        "numeros = []\n",
        "\n",
        "if n > 0:\n",
        "\n",
        "  for i in range(1, n+1):\n",
        "    elemento = int(input(\"Ingresa el elemento \" + str(i) + \":\"))\n",
        "    numeros.append(elemento)\n",
        "\n",
        "  print(numeros[::-1]) "
      ],
      "metadata": {
        "id": "GbbtISVQTTSc"
      },
      "execution_count": null,
      "outputs": []
    },
    {
      "cell_type": "markdown",
      "source": [
        "3. Desarrolla un algoritmo que le pregunte al usuario cuántos números de la serie de Fibonnaci quiere generar y que al final los imprima.   \n"
      ],
      "metadata": {
        "id": "GIzoEHxnZ0K8"
      }
    },
    {
      "cell_type": "code",
      "source": [
        "s = int(input(\"introduce los valores que quieres imprimir \"))\n",
        "if s > 0:\n",
        "  \n",
        "\n",
        "  fibo = 13\n",
        "  anterior = 8\n",
        "\n",
        "  print(0)\n",
        "\n",
        "  for i in range(1, s):\n",
        "    if(i == 1):\n",
        "      fibo = 1\n",
        "    else:\n",
        "      aux = fibo\n",
        "      fibo = fibo+anterior\n",
        "      anterior = aux\n",
        "    print(fibo)\n",
        "  \n"
      ],
      "metadata": {
        "colab": {
          "base_uri": "https://localhost:8080/"
        },
        "id": "GRqZf8N9aCAl",
        "outputId": "fe0fecb9-160f-4e3b-ca7b-96e40cf2b013"
      },
      "execution_count": 50,
      "outputs": [
        {
          "output_type": "stream",
          "name": "stdout",
          "text": [
            "introduce los valores que quieres imprimir 78\n",
            "0\n",
            "1\n",
            "1\n",
            "2\n",
            "3\n",
            "5\n",
            "8\n",
            "13\n",
            "21\n",
            "34\n",
            "55\n",
            "89\n",
            "144\n",
            "233\n",
            "377\n",
            "610\n",
            "987\n",
            "1597\n",
            "2584\n",
            "4181\n",
            "6765\n",
            "10946\n",
            "17711\n",
            "28657\n",
            "46368\n",
            "75025\n",
            "121393\n",
            "196418\n",
            "317811\n",
            "514229\n",
            "832040\n",
            "1346269\n",
            "2178309\n",
            "3524578\n",
            "5702887\n",
            "9227465\n",
            "14930352\n",
            "24157817\n",
            "39088169\n",
            "63245986\n",
            "102334155\n",
            "165580141\n",
            "267914296\n",
            "433494437\n",
            "701408733\n",
            "1134903170\n",
            "1836311903\n",
            "2971215073\n",
            "4807526976\n",
            "7778742049\n",
            "12586269025\n",
            "20365011074\n",
            "32951280099\n",
            "53316291173\n",
            "86267571272\n",
            "139583862445\n",
            "225851433717\n",
            "365435296162\n",
            "591286729879\n",
            "956722026041\n",
            "1548008755920\n",
            "2504730781961\n",
            "4052739537881\n",
            "6557470319842\n",
            "10610209857723\n",
            "17167680177565\n",
            "27777890035288\n",
            "44945570212853\n",
            "72723460248141\n",
            "117669030460994\n",
            "190392490709135\n",
            "308061521170129\n",
            "498454011879264\n",
            "806515533049393\n",
            "1304969544928657\n",
            "2111485077978050\n",
            "3416454622906707\n",
            "5527939700884757\n"
          ]
        }
      ]
    }
  ]
}